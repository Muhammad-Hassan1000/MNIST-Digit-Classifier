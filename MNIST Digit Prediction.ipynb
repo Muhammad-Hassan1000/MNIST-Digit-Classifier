{
  "nbformat": 4,
  "nbformat_minor": 0,
  "metadata": {
    "colab": {
      "name": "MNIST Digit Prediction.ipynb",
      "provenance": [],
      "collapsed_sections": []
    },
    "kernelspec": {
      "name": "python3",
      "display_name": "Python 3"
    },
    "language_info": {
      "name": "python"
    }
  },
  "cells": [
    {
      "cell_type": "markdown",
      "source": [
        "## MNIST Digit Prediction using Neural Network\n"
      ],
      "metadata": {
        "id": "RLozHwJbSCmR"
      }
    },
    {
      "cell_type": "code",
      "execution_count": 1,
      "metadata": {
        "id": "bB-3pjVm7by0"
      },
      "outputs": [],
      "source": [
        "import tensorflow as tf\n",
        "from tensorflow.keras.datasets import mnist\n",
        "import numpy as np\n",
        "import pandas as pd\n",
        "import matplotlib.pyplot as plt"
      ]
    },
    {
      "cell_type": "code",
      "source": [
        "(train_images, train_labels), (test_images, test_labels) = mnist.load_data()"
      ],
      "metadata": {
        "id": "XUPaILNM73S-"
      },
      "execution_count": 2,
      "outputs": []
    },
    {
      "cell_type": "code",
      "source": [
        "print(train_images.shape)\n",
        "print(train_labels.shape)\n",
        "print(test_images.shape)\n",
        "print(test_labels.shape)"
      ],
      "metadata": {
        "colab": {
          "base_uri": "https://localhost:8080/"
        },
        "id": "wp9GeCyH8FBz",
        "outputId": "b5ac4d2d-0c98-4edd-e76e-33df0fcf4df7"
      },
      "execution_count": 3,
      "outputs": [
        {
          "output_type": "stream",
          "name": "stdout",
          "text": [
            "(60000, 28, 28)\n",
            "(60000,)\n",
            "(10000, 28, 28)\n",
            "(10000,)\n"
          ]
        }
      ]
    },
    {
      "cell_type": "markdown",
      "source": [
        "Reshaping the image into 1D, where the 2nd dimension here is the number of images.\n",
        "\n",
        "The images are then normalized by dividing each value by 255 (max value)."
      ],
      "metadata": {
        "id": "cM1QfzbOSRpF"
      }
    },
    {
      "cell_type": "code",
      "source": [
        "train_images = train_images.reshape((60000, 28 * 28))\n",
        "train_images = train_images.astype('float32') / 255\n",
        "test_images = test_images.reshape((10000, 28 * 28))\n",
        "test_images = test_images.astype('float32') / 255"
      ],
      "metadata": {
        "id": "VAKuGgQJ95ff"
      },
      "execution_count": 4,
      "outputs": []
    },
    {
      "cell_type": "code",
      "source": [
        "from tensorflow.keras.utils import to_categorical\n",
        "\n",
        "train_labels = to_categorical(train_labels)      # The labels are turned into categories (encoded) which would be from 0-9\n",
        "test_labels = to_categorical(test_labels)"
      ],
      "metadata": {
        "id": "jh4blh2r-b1B"
      },
      "execution_count": 5,
      "outputs": []
    },
    {
      "cell_type": "code",
      "source": [
        "from tensorflow.keras import models\n",
        "from tensorflow.keras import layers\n",
        "\n",
        "model = models.Sequential()\n",
        "model.add(layers.Dense('512', activation='relu', input_shape=(28*28,)))   # Input layer with 512 units and Rectified Linear Unit activation function\n",
        "model.add(layers.Dense('128', activation='relu'))                         # Hidden layer with 128 units\n",
        "model.add(layers.Dense('10', activation='softmax'))                       # Output layer with 10 units and softmax activation function because the output would pe probability of image belonging to each category\n",
        "\n",
        "model.compile(optimizer='rmsprop', loss='categorical_crossentropy', metrics=['accuracy'])"
      ],
      "metadata": {
        "id": "p_WvGQkx8VCP"
      },
      "execution_count": 12,
      "outputs": []
    },
    {
      "cell_type": "code",
      "source": [
        "history = model.fit(train_images, train_labels, batch_size=128, epochs=10, validation_split=0.2)"
      ],
      "metadata": {
        "colab": {
          "base_uri": "https://localhost:8080/"
        },
        "id": "rRnkeiZM_MeT",
        "outputId": "0f288137-01f5-4fb0-b8ac-b396cc97e8ca"
      },
      "execution_count": 13,
      "outputs": [
        {
          "output_type": "stream",
          "name": "stdout",
          "text": [
            "Epoch 1/10\n",
            "375/375 [==============================] - 7s 17ms/step - loss: 0.2704 - accuracy: 0.9192 - val_loss: 0.1178 - val_accuracy: 0.9658\n",
            "Epoch 2/10\n",
            "375/375 [==============================] - 6s 16ms/step - loss: 0.0994 - accuracy: 0.9692 - val_loss: 0.0978 - val_accuracy: 0.9712\n",
            "Epoch 3/10\n",
            "375/375 [==============================] - 6s 16ms/step - loss: 0.0643 - accuracy: 0.9801 - val_loss: 0.0813 - val_accuracy: 0.9764\n",
            "Epoch 4/10\n",
            "375/375 [==============================] - 6s 16ms/step - loss: 0.0430 - accuracy: 0.9860 - val_loss: 0.1118 - val_accuracy: 0.9720\n",
            "Epoch 5/10\n",
            "375/375 [==============================] - 6s 16ms/step - loss: 0.0335 - accuracy: 0.9890 - val_loss: 0.0972 - val_accuracy: 0.9758\n",
            "Epoch 6/10\n",
            "375/375 [==============================] - 6s 16ms/step - loss: 0.0235 - accuracy: 0.9926 - val_loss: 0.1085 - val_accuracy: 0.9758\n",
            "Epoch 7/10\n",
            "375/375 [==============================] - 6s 16ms/step - loss: 0.0176 - accuracy: 0.9940 - val_loss: 0.1062 - val_accuracy: 0.9769\n",
            "Epoch 8/10\n",
            "375/375 [==============================] - 6s 16ms/step - loss: 0.0139 - accuracy: 0.9952 - val_loss: 0.1012 - val_accuracy: 0.9792\n",
            "Epoch 9/10\n",
            "375/375 [==============================] - 6s 16ms/step - loss: 0.0104 - accuracy: 0.9966 - val_loss: 0.1237 - val_accuracy: 0.9761\n",
            "Epoch 10/10\n",
            "375/375 [==============================] - 6s 16ms/step - loss: 0.0088 - accuracy: 0.9973 - val_loss: 0.1347 - val_accuracy: 0.9772\n"
          ]
        }
      ]
    },
    {
      "cell_type": "markdown",
      "source": [
        "### Visualizing the Model's Performance"
      ],
      "metadata": {
        "id": "zRuEc8gWTy5l"
      }
    },
    {
      "cell_type": "code",
      "source": [
        "history_dict = history.history\n",
        "loss_values = history_dict['loss']\n",
        "val_loss_values = history_dict['val_loss']\n",
        "epochs = range(1, len(loss_values) + 1)\n",
        "plt.plot(epochs, loss_values, 'bo', label='Training Loss')\n",
        "plt.plot(epochs, val_loss_values, 'b', label='Validation Loss')\n",
        "plt.title('Training and Validation Loss')\n",
        "plt.xlabel('Epochs')\n",
        "plt.ylabel('Loss')\n",
        "plt.legend()\n",
        "plt.show()\n",
        "\n",
        "plt.clf()\n",
        "\n",
        "acc_values = history_dict['accuracy']\n",
        "val_acc_values = history_dict['val_accuracy']\n",
        "plt.plot(epochs, acc_values, 'bo', label='Training Accuracy')\n",
        "plt.plot(epochs, val_acc_values, 'b', label='Validation Accuracy')\n",
        "plt.title('Training and Validation Accuracy')\n",
        "plt.xlabel('Epochs')\n",
        "plt.ylabel('Accuracy')\n",
        "plt.legend()\n",
        "plt.show()"
      ],
      "metadata": {
        "colab": {
          "base_uri": "https://localhost:8080/",
          "height": 573
        },
        "id": "CAcwA8MTBqg-",
        "outputId": "c669c8ee-f5fa-4deb-f692-8a8152eb66c3"
      },
      "execution_count": 14,
      "outputs": [
        {
          "output_type": "display_data",
          "data": {
            "text/plain": [
              "<Figure size 432x288 with 1 Axes>"
            ],
            "image/png": "[encoded data removed]"
          },
          "metadata": {
            "needs_background": "light"
          }
        },
        {
          "output_type": "display_data",
          "data": {
            "text/plain": [
              "<Figure size 432x288 with 1 Axes>"
            ],
            "image/png": "[encoded data removed]"
          },
          "metadata": {
            "needs_background": "light"
          }
        }
      ]
    },
    {
      "cell_type": "markdown",
      "source": [
        "The graphs show that the model has an excellent accuracy on training as well as validation data. Although there are little fluctuations which means that the model can be refined further, but the current accuracy looks promising."
      ],
      "metadata": {
        "id": "b8OI9T5wT8cq"
      }
    },
    {
      "cell_type": "code",
      "source": [
        "test_loss, test_acc = model.evaluate(test_images, test_labels)\n",
        "print(\"Test loss: \", test_loss, \", Test Acc: \", test_acc)"
      ],
      "metadata": {
        "colab": {
          "base_uri": "https://localhost:8080/"
        },
        "id": "-mFZHQ7b_yP3",
        "outputId": "719e5409-e118-49be-def0-4b4956d68add"
      },
      "execution_count": 15,
      "outputs": [
        {
          "output_type": "stream",
          "name": "stdout",
          "text": [
            "313/313 [==============================] - 2s 6ms/step - loss: 0.1032 - accuracy: 0.9790\n",
            "Test loss:  0.10316701978445053 , Test Acc:  0.9789999723434448\n"
          ]
        }
      ]
    },
    {
      "cell_type": "markdown",
      "source": [
        "The test accuracy is also great, standing at ~98% "
      ],
      "metadata": {
        "id": "Gqn0PX3yUgHm"
      }
    },
    {
      "cell_type": "code",
      "source": [
        "prediction = model.predict(test_images)[5]"
      ],
      "metadata": {
        "id": "5Ef4RUE9PkSS"
      },
      "execution_count": 16,
      "outputs": []
    },
    {
      "cell_type": "markdown",
      "source": [
        "### Actual Image"
      ],
      "metadata": {
        "id": "hlO-PtGiP_Sk"
      }
    },
    {
      "cell_type": "code",
      "source": [
        "digit = test_images[5].reshape(28,28)\n",
        "import matplotlib.pyplot as plt\n",
        "plt.imshow(digit, cmap = plt.cm.binary)\n",
        "plt.show()"
      ],
      "metadata": {
        "colab": {
          "base_uri": "https://localhost:8080/",
          "height": 265
        },
        "id": "IPfxHx6JP07P",
        "outputId": "3b553b7c-df4b-43c5-d765-367cfaecfbb1"
      },
      "execution_count": 17,
      "outputs": [
        {
          "output_type": "display_data",
          "data": {
            "text/plain": [
              "<Figure size 432x288 with 1 Axes>"
            ],
            "image/png": "[encoded data removed]"
          },
          "metadata": {
            "needs_background": "light"
          }
        }
      ]
    },
    {
      "cell_type": "markdown",
      "source": [
        "### Predicted Value"
      ],
      "metadata": {
        "id": "6vO3UBNqQnOz"
      }
    },
    {
      "cell_type": "markdown",
      "source": [
        "Prediction is an array with 10 values, each value corresponding to the probaility of each class of digits.\n",
        "There are 10 classes from 0-9 which are the indices of the predicted array therefore, argmax() would return the index/digit with the highest probability."
      ],
      "metadata": {
        "id": "aQFf2cSCQrCm"
      }
    },
    {
      "cell_type": "code",
      "source": [
        "np.argmax(prediction)"
      ],
      "metadata": {
        "colab": {
          "base_uri": "https://localhost:8080/"
        },
        "id": "GcYrAs9AP9tp",
        "outputId": "eaa256e7-bf76-4310-c2d3-7da20f1a6185"
      },
      "execution_count": 21,
      "outputs": [
        {
          "output_type": "execute_result",
          "data": {
            "text/plain": [
              "1"
            ]
          },
          "metadata": {},
          "execution_count": 21
        }
      ]
    }
  ]
}